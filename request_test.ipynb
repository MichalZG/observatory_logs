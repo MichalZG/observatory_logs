{
 "cells": [
  {
   "cell_type": "code",
   "execution_count": 19,
   "id": "least-heating",
   "metadata": {},
   "outputs": [],
   "source": [
    "import requests\n",
    "import json\n",
    "from datetime import datetime as dt"
   ]
  },
  {
   "cell_type": "code",
   "execution_count": 20,
   "id": "pleasant-scene",
   "metadata": {},
   "outputs": [],
   "source": [
    "data = requests.get('http://127.0.0.1:8000/targets/6/', auth=('admin', 'haslobrzmi'))"
   ]
  },
  {
   "cell_type": "code",
   "execution_count": 21,
   "id": "limiting-headline",
   "metadata": {},
   "outputs": [
    {
     "data": {
      "text/plain": [
       "{'datetime_start': '2021-01-20T22:40:24Z',\n",
       " 'datetime_end': '2021-01-20T22:45:24Z',\n",
       " 'observer': 'MZ',\n",
       " 'name': 'V442 Per',\n",
       " 'ra': None,\n",
       " 'dec': None,\n",
       " 'note': '',\n",
       " 'telescope': {'name': 'Zeiss60'},\n",
       " 'colorfilters': [{'name': 'B'}, {'name': 'V'}],\n",
       " 'total_exposure_time': None,\n",
       " 'number_of_frames': None}"
      ]
     },
     "execution_count": 21,
     "metadata": {},
     "output_type": "execute_result"
    }
   ],
   "source": [
    "c = json.loads(data.content)\n",
    "c"
   ]
  },
  {
   "cell_type": "code",
   "execution_count": 50,
   "id": "essential-shell",
   "metadata": {},
   "outputs": [],
   "source": [
    "c['datetime_start'] = dt.now().isoformat()\n",
    "c['colorfilters'] = [{'name': 'C'}]\n",
    "c['telescope'] = 'Zeiss60'"
   ]
  },
  {
   "cell_type": "code",
   "execution_count": 51,
   "id": "tropical-pulse",
   "metadata": {},
   "outputs": [
    {
     "data": {
      "text/plain": [
       "{'datetime_start': '2021-02-17T16:58:23.488906',\n",
       " 'datetime_end': '2021-01-20T22:45:24Z',\n",
       " 'observer': 'MZ',\n",
       " 'name': 'V442 Per',\n",
       " 'ra': None,\n",
       " 'dec': None,\n",
       " 'note': '',\n",
       " 'telescope': 'Zeiss60',\n",
       " 'colorfilters': [{'name': 'C'}],\n",
       " 'total_exposure_time': None,\n",
       " 'number_of_frames': None}"
      ]
     },
     "execution_count": 51,
     "metadata": {},
     "output_type": "execute_result"
    }
   ],
   "source": [
    "c"
   ]
  },
  {
   "cell_type": "code",
   "execution_count": 52,
   "id": "caring-pharmaceutical",
   "metadata": {},
   "outputs": [
    {
     "name": "stdout",
     "output_type": "stream",
     "text": [
      "<Response [201]>\n",
      "b'{\"datetime_start\":\"2021-02-17T16:58:23.488906Z\",\"datetime_end\":\"2021-01-20T22:45:24Z\",\"observer\":\"MZ\",\"name\":\"V442 Per\",\"ra\":null,\"dec\":null,\"note\":\"\",\"telescope\":\"Zeiss60\",\"colorfilters\":[{\"name\":\"C\"}],\"total_exposure_time\":null,\"number_of_frames\":null}'\n"
     ]
    }
   ],
   "source": [
    "response = requests.post('http://127.0.0.1:8000/targets/', auth=('admin', 'haslobrzmi'),\n",
    "              data=json.dumps(c),\n",
    "              headers={'content-type': 'application/json'})\n",
    "\n",
    "print(response)\n",
    "print(response.content)"
   ]
  },
  {
   "cell_type": "code",
   "execution_count": null,
   "id": "unlikely-steel",
   "metadata": {},
   "outputs": [],
   "source": []
  }
 ],
 "metadata": {
  "kernelspec": {
   "display_name": "Python 3",
   "language": "python",
   "name": "python3"
  },
  "language_info": {
   "codemirror_mode": {
    "name": "ipython",
    "version": 3
   },
   "file_extension": ".py",
   "mimetype": "text/x-python",
   "name": "python",
   "nbconvert_exporter": "python",
   "pygments_lexer": "ipython3",
   "version": "3.9.1"
  }
 },
 "nbformat": 4,
 "nbformat_minor": 5
}
