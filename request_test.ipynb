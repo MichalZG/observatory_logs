{
 "cells": [
  {
   "cell_type": "code",
   "execution_count": 54,
   "id": "least-heating",
   "metadata": {},
   "outputs": [],
   "source": [
    "import requests\n",
    "import json\n",
    "from datetime import datetime as dt"
   ]
  },
  {
   "cell_type": "code",
   "execution_count": 55,
   "id": "pleasant-scene",
   "metadata": {},
   "outputs": [],
   "source": [
    "data = requests.get('http://127.0.0.1:8000/targets/6/', auth=('admin', 'haslobrzmi'))"
   ]
  },
  {
   "cell_type": "code",
   "execution_count": 56,
   "id": "limiting-headline",
   "metadata": {},
   "outputs": [
    {
     "ename": "JSONDecodeError",
     "evalue": "Expecting value: line 1 column 1 (char 0)",
     "output_type": "error",
     "traceback": [
      "\u001b[0;31m---------------------------------------------------------------------------\u001b[0m",
      "\u001b[0;31mJSONDecodeError\u001b[0m                           Traceback (most recent call last)",
      "\u001b[0;32m<ipython-input-56-d944d92e96bc>\u001b[0m in \u001b[0;36m<module>\u001b[0;34m\u001b[0m\n\u001b[0;32m----> 1\u001b[0;31m \u001b[0mc\u001b[0m \u001b[0;34m=\u001b[0m \u001b[0mjson\u001b[0m\u001b[0;34m.\u001b[0m\u001b[0mloads\u001b[0m\u001b[0;34m(\u001b[0m\u001b[0mdata\u001b[0m\u001b[0;34m.\u001b[0m\u001b[0mcontent\u001b[0m\u001b[0;34m)\u001b[0m\u001b[0;34m\u001b[0m\u001b[0;34m\u001b[0m\u001b[0m\n\u001b[0m\u001b[1;32m      2\u001b[0m \u001b[0mc\u001b[0m\u001b[0;34m\u001b[0m\u001b[0;34m\u001b[0m\u001b[0m\n",
      "\u001b[0;32m~/miniconda3/envs/suhora_logs/lib/python3.9/json/__init__.py\u001b[0m in \u001b[0;36mloads\u001b[0;34m(s, cls, object_hook, parse_float, parse_int, parse_constant, object_pairs_hook, **kw)\u001b[0m\n\u001b[1;32m    344\u001b[0m             \u001b[0mparse_int\u001b[0m \u001b[0;32mis\u001b[0m \u001b[0;32mNone\u001b[0m \u001b[0;32mand\u001b[0m \u001b[0mparse_float\u001b[0m \u001b[0;32mis\u001b[0m \u001b[0;32mNone\u001b[0m \u001b[0;32mand\u001b[0m\u001b[0;34m\u001b[0m\u001b[0;34m\u001b[0m\u001b[0m\n\u001b[1;32m    345\u001b[0m             parse_constant is None and object_pairs_hook is None and not kw):\n\u001b[0;32m--> 346\u001b[0;31m         \u001b[0;32mreturn\u001b[0m \u001b[0m_default_decoder\u001b[0m\u001b[0;34m.\u001b[0m\u001b[0mdecode\u001b[0m\u001b[0;34m(\u001b[0m\u001b[0ms\u001b[0m\u001b[0;34m)\u001b[0m\u001b[0;34m\u001b[0m\u001b[0;34m\u001b[0m\u001b[0m\n\u001b[0m\u001b[1;32m    347\u001b[0m     \u001b[0;32mif\u001b[0m \u001b[0mcls\u001b[0m \u001b[0;32mis\u001b[0m \u001b[0;32mNone\u001b[0m\u001b[0;34m:\u001b[0m\u001b[0;34m\u001b[0m\u001b[0;34m\u001b[0m\u001b[0m\n\u001b[1;32m    348\u001b[0m         \u001b[0mcls\u001b[0m \u001b[0;34m=\u001b[0m \u001b[0mJSONDecoder\u001b[0m\u001b[0;34m\u001b[0m\u001b[0;34m\u001b[0m\u001b[0m\n",
      "\u001b[0;32m~/miniconda3/envs/suhora_logs/lib/python3.9/json/decoder.py\u001b[0m in \u001b[0;36mdecode\u001b[0;34m(self, s, _w)\u001b[0m\n\u001b[1;32m    335\u001b[0m \u001b[0;34m\u001b[0m\u001b[0m\n\u001b[1;32m    336\u001b[0m         \"\"\"\n\u001b[0;32m--> 337\u001b[0;31m         \u001b[0mobj\u001b[0m\u001b[0;34m,\u001b[0m \u001b[0mend\u001b[0m \u001b[0;34m=\u001b[0m \u001b[0mself\u001b[0m\u001b[0;34m.\u001b[0m\u001b[0mraw_decode\u001b[0m\u001b[0;34m(\u001b[0m\u001b[0ms\u001b[0m\u001b[0;34m,\u001b[0m \u001b[0midx\u001b[0m\u001b[0;34m=\u001b[0m\u001b[0m_w\u001b[0m\u001b[0;34m(\u001b[0m\u001b[0ms\u001b[0m\u001b[0;34m,\u001b[0m \u001b[0;36m0\u001b[0m\u001b[0;34m)\u001b[0m\u001b[0;34m.\u001b[0m\u001b[0mend\u001b[0m\u001b[0;34m(\u001b[0m\u001b[0;34m)\u001b[0m\u001b[0;34m)\u001b[0m\u001b[0;34m\u001b[0m\u001b[0;34m\u001b[0m\u001b[0m\n\u001b[0m\u001b[1;32m    338\u001b[0m         \u001b[0mend\u001b[0m \u001b[0;34m=\u001b[0m \u001b[0m_w\u001b[0m\u001b[0;34m(\u001b[0m\u001b[0ms\u001b[0m\u001b[0;34m,\u001b[0m \u001b[0mend\u001b[0m\u001b[0;34m)\u001b[0m\u001b[0;34m.\u001b[0m\u001b[0mend\u001b[0m\u001b[0;34m(\u001b[0m\u001b[0;34m)\u001b[0m\u001b[0;34m\u001b[0m\u001b[0;34m\u001b[0m\u001b[0m\n\u001b[1;32m    339\u001b[0m         \u001b[0;32mif\u001b[0m \u001b[0mend\u001b[0m \u001b[0;34m!=\u001b[0m \u001b[0mlen\u001b[0m\u001b[0;34m(\u001b[0m\u001b[0ms\u001b[0m\u001b[0;34m)\u001b[0m\u001b[0;34m:\u001b[0m\u001b[0;34m\u001b[0m\u001b[0;34m\u001b[0m\u001b[0m\n",
      "\u001b[0;32m~/miniconda3/envs/suhora_logs/lib/python3.9/json/decoder.py\u001b[0m in \u001b[0;36mraw_decode\u001b[0;34m(self, s, idx)\u001b[0m\n\u001b[1;32m    353\u001b[0m             \u001b[0mobj\u001b[0m\u001b[0;34m,\u001b[0m \u001b[0mend\u001b[0m \u001b[0;34m=\u001b[0m \u001b[0mself\u001b[0m\u001b[0;34m.\u001b[0m\u001b[0mscan_once\u001b[0m\u001b[0;34m(\u001b[0m\u001b[0ms\u001b[0m\u001b[0;34m,\u001b[0m \u001b[0midx\u001b[0m\u001b[0;34m)\u001b[0m\u001b[0;34m\u001b[0m\u001b[0;34m\u001b[0m\u001b[0m\n\u001b[1;32m    354\u001b[0m         \u001b[0;32mexcept\u001b[0m \u001b[0mStopIteration\u001b[0m \u001b[0;32mas\u001b[0m \u001b[0merr\u001b[0m\u001b[0;34m:\u001b[0m\u001b[0;34m\u001b[0m\u001b[0;34m\u001b[0m\u001b[0m\n\u001b[0;32m--> 355\u001b[0;31m             \u001b[0;32mraise\u001b[0m \u001b[0mJSONDecodeError\u001b[0m\u001b[0;34m(\u001b[0m\u001b[0;34m\"Expecting value\"\u001b[0m\u001b[0;34m,\u001b[0m \u001b[0ms\u001b[0m\u001b[0;34m,\u001b[0m \u001b[0merr\u001b[0m\u001b[0;34m.\u001b[0m\u001b[0mvalue\u001b[0m\u001b[0;34m)\u001b[0m \u001b[0;32mfrom\u001b[0m \u001b[0;32mNone\u001b[0m\u001b[0;34m\u001b[0m\u001b[0;34m\u001b[0m\u001b[0m\n\u001b[0m\u001b[1;32m    356\u001b[0m         \u001b[0;32mreturn\u001b[0m \u001b[0mobj\u001b[0m\u001b[0;34m,\u001b[0m \u001b[0mend\u001b[0m\u001b[0;34m\u001b[0m\u001b[0;34m\u001b[0m\u001b[0m\n",
      "\u001b[0;31mJSONDecodeError\u001b[0m: Expecting value: line 1 column 1 (char 0)"
     ]
    }
   ],
   "source": [
    "c = json.loads(data.content)\n",
    "c"
   ]
  },
  {
   "cell_type": "code",
   "execution_count": 50,
   "id": "essential-shell",
   "metadata": {},
   "outputs": [],
   "source": [
    "c['datetime_start'] = dt.now().isoformat()\n",
    "c['colorfilters'] = [{'name': 'C'}]\n",
    "c['telescope'] = 'Zeiss60'"
   ]
  },
  {
   "cell_type": "code",
   "execution_count": 51,
   "id": "tropical-pulse",
   "metadata": {},
   "outputs": [
    {
     "data": {
      "text/plain": [
       "{'datetime_start': '2021-02-17T16:58:23.488906',\n",
       " 'datetime_end': '2021-01-20T22:45:24Z',\n",
       " 'observer': 'MZ',\n",
       " 'name': 'V442 Per',\n",
       " 'ra': None,\n",
       " 'dec': None,\n",
       " 'note': '',\n",
       " 'telescope': 'Zeiss60',\n",
       " 'colorfilters': [{'name': 'C'}],\n",
       " 'total_exposure_time': None,\n",
       " 'number_of_frames': None}"
      ]
     },
     "execution_count": 51,
     "metadata": {},
     "output_type": "execute_result"
    }
   ],
   "source": [
    "c"
   ]
  },
  {
   "cell_type": "code",
   "execution_count": 58,
   "id": "caring-pharmaceutical",
   "metadata": {},
   "outputs": [
    {
     "name": "stdout",
     "output_type": "stream",
     "text": [
      "<Response [200]>\n",
      "b'[{\"datetime_start\":\"2021-01-28T06:06:21.680000Z\",\"datetime_end\":\"2021-01-28T06:07:34.620000Z\",\"observer\":\"MD\",\"name\":\"bias\",\"ra\":null,\"dec\":null,\"note\":\"\",\"telescope\":\"Z60\",\"colorfilters\":[{\"name\":\"B\"}],\"total_exposure_time\":\"0.00\",\"number_of_frames\":50},{\"datetime_start\":\"2021-01-28T05:40:17.250000Z\",\"datetime_end\":\"2021-01-28T06:06:21.680000Z\",\"observer\":\"MD\",\"name\":\"flat\",\"ra\":null,\"dec\":null,\"note\":\"\",\"telescope\":\"Z60\",\"colorfilters\":[{\"name\":\"B\"},{\"name\":\"V\"},{\"name\":\"R\"},{\"name\":\"I\"}],\"total_exposure_time\":\"180.00\",\"number_of_frames\":36},{\"datetime_start\":\"2021-01-28T05:09:10.790000Z\",\"datetime_end\":\"2021-01-28T05:40:17.250000Z\",\"observer\":\"MD\",\"name\":\"j2042\",\"ra\":null,\"dec\":null,\"note\":\"\",\"telescope\":\"Z60\",\"colorfilters\":[{\"name\":\"R\"}],\"total_exposure_time\":\"900.00\",\"number_of_frames\":15},{\"datetime_start\":\"2021-01-28T04:42:59.140000Z\",\"datetime_end\":\"2021-01-28T05:09:10.790000Z\",\"observer\":\"MD\",\"name\":\"j1723\",\"ra\":null,\"dec\":null,\"note\":\"\",\"telescope\":\"Z60\",\"colorfilters\":[{\"name\":\"R\"}],\"total_exposure_time\":\"960.00\",\"number_of_frames\":16},{\"datetime_start\":\"2021-01-28T04:17:25.150000Z\",\"datetime_end\":\"2021-01-28T04:42:59.140000Z\",\"observer\":\"MD\",\"name\":\"oj287\",\"ra\":null,\"dec\":null,\"note\":\"\",\"telescope\":\"Z60\",\"colorfilters\":[{\"name\":\"R\"}],\"total_exposure_time\":\"1020.00\",\"number_of_frames\":17},{\"datetime_start\":\"2015-10-10T21:23:51.130000Z\",\"datetime_end\":\"2015-10-10T22:03:39.840000Z\",\"observer\":\"siwak\",\"name\":\"ngc7129\",\"ra\":null,\"dec\":null,\"note\":\"\",\"telescope\":\"Z60\",\"colorfilters\":[{\"name\":\"GS\"},{\"name\":\"IS\"}],\"total_exposure_time\":\"1830.00\",\"number_of_frames\":61},{\"datetime_start\":\"2015-10-10T20:47:21.400000Z\",\"datetime_end\":\"2015-10-10T21:23:51.130000Z\",\"observer\":\"siwak\",\"name\":\"lkha\",\"ra\":null,\"dec\":null,\"note\":\"\",\"telescope\":\"Z60\",\"colorfilters\":[{\"name\":\"GS\"},{\"name\":\"IS\"}],\"total_exposure_time\":\"1000.00\",\"number_of_frames\":40}]'\n"
     ]
    }
   ],
   "source": [
    "response = requests.get('http://104.248.129.33:8000/targets/', auth=('admin', 'haslobrzmi'),\n",
    "              headers={'content-type': 'application/json'})\n",
    "\n",
    "print(response)\n",
    "print(response.content)"
   ]
  },
  {
   "cell_type": "code",
   "execution_count": null,
   "id": "unlikely-steel",
   "metadata": {},
   "outputs": [],
   "source": []
  }
 ],
 "metadata": {
  "kernelspec": {
   "display_name": "Python 3",
   "language": "python",
   "name": "python3"
  },
  "language_info": {
   "codemirror_mode": {
    "name": "ipython",
    "version": 3
   },
   "file_extension": ".py",
   "mimetype": "text/x-python",
   "name": "python",
   "nbconvert_exporter": "python",
   "pygments_lexer": "ipython3",
   "version": "3.9.1"
  }
 },
 "nbformat": 4,
 "nbformat_minor": 5
}
